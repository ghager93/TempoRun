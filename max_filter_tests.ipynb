{
 "cells": [
  {
   "cell_type": "code",
   "execution_count": 9,
   "id": "f4302143",
   "metadata": {},
   "outputs": [],
   "source": [
    "import numpy as np\n",
    "import peak_detection\n",
    "import matplotlib.pyplot as plt"
   ]
  },
  {
   "cell_type": "code",
   "execution_count": 8,
   "id": "5f156656",
   "metadata": {},
   "outputs": [
    {
     "data": {
      "text/plain": [
       "<module 'peak_detection' from 'C:\\\\Users\\\\ghage\\\\PycharmProjects\\\\beatDetector\\\\peak_detection.py'>"
      ]
     },
     "execution_count": 8,
     "metadata": {},
     "output_type": "execute_result"
    }
   ],
   "source": [
    "import importlib\n",
    "importlib.reload(peak_detection)"
   ]
  },
  {
   "cell_type": "code",
   "execution_count": 4,
   "id": "1d353ddf",
   "metadata": {},
   "outputs": [],
   "source": [
    "arr = np.random.random(1000000)\n",
    "win = 10000"
   ]
  },
  {
   "cell_type": "code",
   "execution_count": 5,
   "id": "5441b1a8",
   "metadata": {},
   "outputs": [
    {
     "name": "stdout",
     "output_type": "stream",
     "text": [
      "7.66 s ± 51.4 ms per loop (mean ± std. dev. of 7 runs, 1 loop each)\n"
     ]
    }
   ],
   "source": [
    "%timeit peak_detection.max_filter(arr, win)"
   ]
  },
  {
   "cell_type": "code",
   "execution_count": 6,
   "id": "cf14d0b5",
   "metadata": {},
   "outputs": [
    {
     "name": "stdout",
     "output_type": "stream",
     "text": [
      "3.22 s ± 13.9 ms per loop (mean ± std. dev. of 7 runs, 1 loop each)\n"
     ]
    }
   ],
   "source": [
    "%timeit peak_detection.max_filter2(arr, win)"
   ]
  },
  {
   "cell_type": "code",
   "execution_count": 7,
   "id": "917d5ee8",
   "metadata": {},
   "outputs": [
    {
     "name": "stdout",
     "output_type": "stream",
     "text": [
      "18.2 ms ± 192 µs per loop (mean ± std. dev. of 7 runs, 100 loops each)\n"
     ]
    }
   ],
   "source": [
    "%timeit peak_detection.max_filter3(arr, win)"
   ]
  },
  {
   "cell_type": "code",
   "execution_count": 10,
   "id": "81c9018e",
   "metadata": {},
   "outputs": [],
   "source": [
    "peaks = peak_detection.max_filter(arr, win)"
   ]
  },
  {
   "cell_type": "code",
   "execution_count": 16,
   "id": "477b0a58",
   "metadata": {},
   "outputs": [
    {
     "data": {
      "text/plain": [
       "[<matplotlib.lines.Line2D at 0x179be65ef10>]"
      ]
     },
     "execution_count": 16,
     "metadata": {},
     "output_type": "execute_result"
    },
    {
     "data": {
      "image/png": "[encoded data removed]",
      "text/plain": [
       "<Figure size 432x288 with 1 Axes>"
      ]
     },
     "metadata": {
      "needs_background": "light"
     },
     "output_type": "display_data"
    }
   ],
   "source": [
    "plt.plot(peaks[100000:200000])\n",
    "# plt.plot(arr[100000:200000])"
   ]
  }
 ],
 "metadata": {
  "kernelspec": {
   "display_name": "Python 3",
   "language": "python",
   "name": "python3"
  },
  "language_info": {
   "codemirror_mode": {
    "name": "ipython",
    "version": 3
   },
   "file_extension": ".py",
   "mimetype": "text/x-python",
   "name": "python",
   "nbconvert_exporter": "python",
   "pygments_lexer": "ipython3",
   "version": "3.8.3"
  }
 },
 "nbformat": 4,
 "nbformat_minor": 5
}
